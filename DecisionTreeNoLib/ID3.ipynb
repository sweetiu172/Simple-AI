{
  "nbformat": 4,
  "nbformat_minor": 0,
  "metadata": {
    "colab": {
      "name": "ID3.ipynb",
      "provenance": [],
      "collapsed_sections": []
    },
    "kernelspec": {
      "name": "python3",
      "display_name": "Python 3"
    },
    "language_info": {
      "name": "python"
    }
  },
  "cells": [
    {
      "cell_type": "code",
      "metadata": {
        "colab": {
          "base_uri": "https://localhost:8080/"
        },
        "id": "A1ZI3LaWjQQK",
        "outputId": "091418ea-d0ef-4a51-9748-2843b63e04bc"
      },
      "source": [
        "import numpy as np\n",
        "import matplotlib.pyplot as plt\n",
        "import pandas as pd \n",
        "import math\n",
        "import copy\n",
        "\n",
        "dataset = pd.read_csv('tennis.csv')\n",
        "X = dataset.iloc[:, 1:].values\n",
        "print(X, end=\"\\n\")\n",
        "attribute = ['outlook', 'temp', 'humidity', 'wind']\n",
        "print(attribute)"
      ],
      "execution_count": 66,
      "outputs": [
        {
          "output_type": "stream",
          "text": [
            "[['Sunny' 'Hot' 'High' 'Weak' 'No']\n",
            " ['Sunny' 'Hot' 'High' 'Strong' 'No']\n",
            " ['Overcast' 'Hot' 'High' 'Weak' 'Yes']\n",
            " ['Rain' 'Mild' 'High' 'Weak' 'Yes']\n",
            " ['Rain' 'Cool' 'Normal' 'Weak' 'Yes']\n",
            " ['Rain' 'Cool' 'Normal' 'Strong' 'No']\n",
            " ['Overcast' 'Cool' 'Normal' 'Strong' 'Yes']\n",
            " ['Sunny' 'Mild' 'High' 'Weak' 'No']\n",
            " ['Sunny' 'Cool' 'Normal' 'Weak' 'Yes']\n",
            " ['Rain' 'Mild' 'Normal' 'Weak' 'Yes']\n",
            " ['Sunny' 'Mild' 'Normal' 'Strong' 'Yes']\n",
            " ['Overcast' 'Mild' 'High' 'Strong' 'Yes']\n",
            " ['Overcast' 'Hot' 'Normal' 'Weak' 'Yes']\n",
            " ['Rain' 'Mild' 'High' 'Strong' 'No']]\n",
            "['outlook', 'temp', 'humidity', 'wind']\n"
          ],
          "name": "stdout"
        }
      ]
    },
    {
      "cell_type": "code",
      "metadata": {
        "id": "OE_z8rCypBkU"
      },
      "source": [
        "class Node(object):\n",
        "  def __init__(self):\n",
        "    self.value = None \n",
        "    self.decision = None \n",
        "    self.childs = None\n"
      ],
      "execution_count": 67,
      "outputs": []
    },
    {
      "cell_type": "code",
      "metadata": {
        "id": "tBDu56jZpw5f",
        "colab": {
          "base_uri": "https://localhost:8080/"
        },
        "outputId": "a27a0b54-4bfd-4ff8-935b-b14171863880"
      },
      "source": [
        "def findEntropy(data,rows):\n",
        "  yes = 0\n",
        "  no = 0\n",
        "  ans = -1\n",
        "  idx = len(data[0])-1\n",
        "  entropy = 0\n",
        "  for i in rows:\n",
        "    if data[i][idx] == 'Yes':\n",
        "      yes = yes + 1\n",
        "    else:\n",
        "      no = no + 1\n",
        "  \n",
        "  x = yes / (yes + no)\n",
        "  y = no / (yes + no)\n",
        "  if x != 0 and y != 0:\n",
        "    entropy = -1 * (x * math.log2(x) + y * math.log2(y))\n",
        "  if x == 1:\n",
        "    ans = 1\n",
        "  if y == 1:\n",
        "    ans = 0\n",
        "  return entropy, ans\n",
        "\n",
        "rows = [i for i in range(0,14)]\n",
        "print(rows)\n",
        "entropy,ans = findEntropy(X,rows)\n",
        "print(entropy)\n",
        "print(ans,\"\\n\")\n"
      ],
      "execution_count": 68,
      "outputs": [
        {
          "output_type": "stream",
          "text": [
            "[0, 1, 2, 3, 4, 5, 6, 7, 8, 9, 10, 11, 12, 13]\n",
            "0.9402859586706309\n",
            "-1 \n",
            "\n"
          ],
          "name": "stdout"
        }
      ]
    },
    {
      "cell_type": "code",
      "metadata": {
        "id": "32Y6IthYsHHz",
        "colab": {
          "base_uri": "https://localhost:8080/"
        },
        "outputId": "ba9e3892-0d32-4ace-9eb9-02d50e2035b8"
      },
      "source": [
        "def findMaxGain(data, rows, columns):\n",
        "  maxGain = 0\n",
        "  retidx = -1\n",
        "  entropy, ans = findEntropy(data, rows)\n",
        "  if entropy == 0:\n",
        "    return maxGain,retidx,ans\n",
        "\n",
        "  #ví dụ thuộc tính outlook có 5 thuộc tính con sunny, 4 overcast và 5 rain\n",
        "  for j in columns:\n",
        "    mydict = {}\n",
        "    idx = j\n",
        "    for i in rows:\n",
        "      key = data[i][idx]\n",
        "      if key not in mydict:\n",
        "        mydict[key] = 1\n",
        "      else:\n",
        "        mydict[key] = mydict[key] + 1\n",
        "    gain = entropy\n",
        "\n",
        "    print(mydict)\n",
        "\n",
        "    #tính GainInfo của từng thuộc tính\n",
        "    for key in mydict:\n",
        "      yes = 0\n",
        "      no= 0\n",
        "      for k in rows:\n",
        "        if data[k][j] == key :\n",
        "          if data[k][-1] == 'Yes':\n",
        "            yes = yes + 1\n",
        "          else:\n",
        "            no = no + 1\n",
        "      print(yes, no)\n",
        "      x = yes / (yes + no)\n",
        "      y = no / (yes + no)\n",
        "      print(x,y)\n",
        "      if x != 0 and y != 0:\n",
        "        gain += (mydict[key] * (x * math.log2(x) + y*math.log2(y)))/14\n",
        "    print(gain)\n",
        "    #tìm cột có chỉ số Gain Information cao nhất\n",
        "    if gain > maxGain:\n",
        "      maxGain = gain\n",
        "      retidx = j\n",
        "  return maxGain, retidx, ans\n",
        "columns = [i for i in range(0,4)]\n",
        "rows = [i for i in range(0,14)]\n",
        "maxGain, retidx, ans = findMaxGain(X, rows, columns)\n"
      ],
      "execution_count": 69,
      "outputs": [
        {
          "output_type": "stream",
          "text": [
            "{'Sunny': 5, 'Overcast': 4, 'Rain': 5}\n",
            "2 3\n",
            "0.4 0.6\n",
            "4 0\n",
            "1.0 0.0\n",
            "3 2\n",
            "0.6 0.4\n",
            "0.24674981977443905\n",
            "{'Hot': 4, 'Mild': 6, 'Cool': 4}\n",
            "2 2\n",
            "0.5 0.5\n",
            "4 2\n",
            "0.6666666666666666 0.3333333333333333\n",
            "3 1\n",
            "0.75 0.25\n",
            "0.02922256565895459\n",
            "{'High': 7, 'Normal': 7}\n",
            "3 4\n",
            "0.42857142857142855 0.5714285714285714\n",
            "6 1\n",
            "0.8571428571428571 0.14285714285714285\n",
            "0.15183550136234142\n",
            "{'Weak': 8, 'Strong': 6}\n",
            "6 2\n",
            "0.75 0.25\n",
            "3 3\n",
            "0.5 0.5\n",
            "0.04812703040826932\n"
          ],
          "name": "stdout"
        }
      ]
    },
    {
      "cell_type": "code",
      "metadata": {
        "colab": {
          "base_uri": "https://localhost:8080/"
        },
        "id": "6y128Bq7XOiE",
        "outputId": "20b6aeab-c3dd-425a-d3ba-bb32ba14793b"
      },
      "source": [
        "def buildTree(data, rows, columns):\n",
        "  maxGain,idx, ans = findMaxGain(X,rows,columns)\n",
        "  root = Node()\n",
        "  root.childs = []\n",
        "  print(maxGain)\n",
        "\n",
        "  if maxGain == 0: \n",
        "    if ans == 1:\n",
        "      root.value = 'Yes'\n",
        "    else:\n",
        "      root.value = 'No'\n",
        "    return root\n",
        "\n",
        "  root.value = attribute[idx]\n",
        "  mydict= {}\n",
        "  for i in rows:\n",
        "    key = data[i][idx]\n",
        "    if key not in mydict:\n",
        "      mydict[key] = 1 \n",
        "    else: \n",
        "      mydict[key] += 1\n",
        "  \n",
        "  newcolumns = copy.deepcopy(columns)\n",
        "  newcolumns.remove(idx)\n",
        "\n",
        "  for key in mydict:\n",
        "    newrows = []\n",
        "    for i in rows:\n",
        "      if data[i][idx] == key:\n",
        "        newrows.append(i)\n",
        "    #print(newrows)\n",
        "    temp = buildTree(data, newrows, newcolumns)\n",
        "    temp.decision = key\n",
        "    root.childs.append(temp)\n",
        "\n",
        "  return root\n",
        "\n",
        "root = buildTree(X,rows,columns)"
      ],
      "execution_count": 70,
      "outputs": [
        {
          "output_type": "stream",
          "text": [
            "{'Sunny': 5, 'Overcast': 4, 'Rain': 5}\n",
            "2 3\n",
            "0.4 0.6\n",
            "4 0\n",
            "1.0 0.0\n",
            "3 2\n",
            "0.6 0.4\n",
            "0.24674981977443905\n",
            "{'Hot': 4, 'Mild': 6, 'Cool': 4}\n",
            "2 2\n",
            "0.5 0.5\n",
            "4 2\n",
            "0.6666666666666666 0.3333333333333333\n",
            "3 1\n",
            "0.75 0.25\n",
            "0.02922256565895459\n",
            "{'High': 7, 'Normal': 7}\n",
            "3 4\n",
            "0.42857142857142855 0.5714285714285714\n",
            "6 1\n",
            "0.8571428571428571 0.14285714285714285\n",
            "0.15183550136234142\n",
            "{'Weak': 8, 'Strong': 6}\n",
            "6 2\n",
            "0.75 0.25\n",
            "3 3\n",
            "0.5 0.5\n",
            "0.04812703040826932\n",
            "0.24674981977443905\n",
            "{'Hot': 2, 'Mild': 2, 'Cool': 1}\n",
            "0 2\n",
            "0.0 1.0\n",
            "1 1\n",
            "0.5 0.5\n",
            "1 0\n",
            "1.0 0.0\n",
            "0.8280934515975258\n",
            "{'High': 3, 'Normal': 2}\n",
            "0 3\n",
            "0.0 1.0\n",
            "2 0\n",
            "1.0 0.0\n",
            "0.9709505944546686\n",
            "{'Weak': 3, 'Strong': 2}\n",
            "1 2\n",
            "0.3333333333333333 0.6666666666666666\n",
            "1 1\n",
            "0.5 0.5\n",
            "0.6313157728715637\n",
            "0.9709505944546686\n",
            "0\n",
            "0\n",
            "0\n",
            "{'Mild': 3, 'Cool': 2}\n",
            "2 1\n",
            "0.6666666666666666 0.3333333333333333\n",
            "1 1\n",
            "0.5 0.5\n",
            "0.6313157728715637\n",
            "{'High': 2, 'Normal': 3}\n",
            "1 1\n",
            "0.5 0.5\n",
            "2 1\n",
            "0.6666666666666666 0.3333333333333333\n",
            "0.6313157728715637\n",
            "{'Weak': 3, 'Strong': 2}\n",
            "3 0\n",
            "1.0 0.0\n",
            "0 2\n",
            "0.0 1.0\n",
            "0.9709505944546686\n",
            "0.9709505944546686\n",
            "0\n",
            "0\n"
          ],
          "name": "stdout"
        }
      ]
    },
    {
      "cell_type": "code",
      "metadata": {
        "colab": {
          "base_uri": "https://localhost:8080/"
        },
        "id": "7DGOL1AmneFZ",
        "outputId": "0de57ae6-805a-4613-94d2-52359fa71ed2"
      },
      "source": [
        "def traverse(root):\n",
        "  print(root.decision)\n",
        "  print(root.value)\n",
        "  n = len(root.childs)\n",
        "  if n > 0:\n",
        "    for i in range(0,n):\n",
        "      traverse(root.childs[i])\n",
        "      \n",
        "root.decision = 'Start'\n",
        "traverse(root)"
      ],
      "execution_count": 71,
      "outputs": [
        {
          "output_type": "stream",
          "text": [
            "Start\n",
            "outlook\n",
            "Sunny\n",
            "humidity\n",
            "High\n",
            "No\n",
            "Normal\n",
            "Yes\n",
            "Overcast\n",
            "Yes\n",
            "Rain\n",
            "wind\n",
            "Weak\n",
            "Yes\n",
            "Strong\n",
            "No\n"
          ],
          "name": "stdout"
        }
      ]
    }
  ]
}