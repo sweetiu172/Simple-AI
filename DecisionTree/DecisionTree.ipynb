{
  "nbformat": 4,
  "nbformat_minor": 0,
  "metadata": {
    "colab": {
      "name": "DecisionTree.ipynb",
      "provenance": [],
      "collapsed_sections": []
    },
    "kernelspec": {
      "name": "python3",
      "display_name": "Python 3"
    },
    "language_info": {
      "name": "python"
    }
  },
  "cells": [
    {
      "cell_type": "code",
      "metadata": {
        "id": "QncZJbyxjXFQ",
        "colab": {
          "base_uri": "https://localhost:8080/"
        },
        "outputId": "1151bf99-bc7b-4a9e-ffd6-491adca657d6"
      },
      "source": [
        "import pandas as pd\n",
        "\n",
        "df = pd.read_excel('data.xlsx')\n",
        "\n",
        "print(df)"
      ],
      "execution_count": 1,
      "outputs": [
        {
          "output_type": "stream",
          "text": [
            "    Mã số  Màu da   Chiều cao    Cân nặng  Thể thao Sức khỏe\n",
            "0        1    Nâu        Thấp  Trung bình  Cầu lông   Loại 2\n",
            "1        2  Trắng        Thấp         Nhẹ   Bóng đá   Loại 1\n",
            "2        3   Vàng         Cao         Nhẹ   Bóng rổ   Loại 1\n",
            "3        4   Vàng        Thấp  Trung bình   Bóng đá   Loại 2\n",
            "4        5  Trắng         Cao        Nặng  Cầu lông   Loại 1\n",
            "5        6   Vàng  Trung bình  Trung bình  Cầu lông   Loại 2\n",
            "6        7    Nâu  Trung bình        Nặng   Bóng đá   Loại 2\n",
            "7        8    Nâu         Cao        Nặng   Bóng đá   Loại 2\n",
            "8        9   Vàng        Thấp         Nhẹ  Cầu lông   Loại 1\n",
            "9       10  Trắng         Cao         Nhẹ   Bóng rổ        ?\n",
            "10      11    Nâu         Cao        Nặng   Bóng rổ        ?\n"
          ],
          "name": "stdout"
        }
      ]
    },
    {
      "cell_type": "code",
      "metadata": {
        "id": "kkjr5DJqjiDJ"
      },
      "source": [
        "X_labels = ['Màu da','Chiều cao','Cân nặng','Thể thao']\n",
        "Y_label = 'Sức khỏe'"
      ],
      "execution_count": 2,
      "outputs": []
    },
    {
      "cell_type": "code",
      "metadata": {
        "colab": {
          "base_uri": "https://localhost:8080/"
        },
        "id": "z2sSxDyp1Q5X",
        "outputId": "75778eed-d9aa-4b45-b730-365b1fccc9d5"
      },
      "source": [
        "from sklearn import preprocessing\n",
        "le = preprocessing.LabelEncoder()\n",
        "\n",
        "for label in df:\n",
        "  df[label] = le.fit_transform(df[label])\n",
        "\n",
        "print(df)\n",
        "X = []\n",
        "Y = []\n",
        "for idx in range(len(df)):\n",
        "  temp = []\n",
        "  for label in X_labels:\n",
        "    temp.append(df.iloc[idx][label])\n",
        "  X.append(temp)\n",
        "  Y.append(df.iloc[idx][Y_label])\n",
        "\n",
        "x_train, x_test, y_train, y_test = X[:9], X[9:], Y[:9], Y[9:]"
      ],
      "execution_count": 3,
      "outputs": [
        {
          "output_type": "stream",
          "text": [
            "    Mã số   Màu da  Chiều cao  Cân nặng  Thể thao  Sức khỏe\n",
            "0        0       0          1         2         2         2\n",
            "1        1       1          1         0         1         1\n",
            "2        2       2          0         0         0         1\n",
            "3        3       2          1         2         1         2\n",
            "4        4       1          0         1         2         1\n",
            "5        5       2          2         2         2         2\n",
            "6        6       0          2         1         1         2\n",
            "7        7       0          0         1         1         2\n",
            "8        8       2          1         0         2         1\n",
            "9        9       1          0         0         0         0\n",
            "10      10       0          0         1         0         0\n"
          ],
          "name": "stdout"
        }
      ]
    },
    {
      "cell_type": "code",
      "metadata": {
        "colab": {
          "base_uri": "https://localhost:8080/"
        },
        "id": "wbanqBIT344N",
        "outputId": "46909268-2161-4049-8a04-d874d71224fb"
      },
      "source": [
        "from sklearn import tree\n",
        "\n",
        "clf = tree.DecisionTreeClassifier(criterion = 'entropy')\n",
        "clf = clf.fit(x_train, y_train)\n",
        "\n",
        "pred = clf.predict(x_test)\n",
        "print(pred)"
      ],
      "execution_count": 11,
      "outputs": [
        {
          "output_type": "stream",
          "text": [
            "[1 2]\n"
          ],
          "name": "stdout"
        }
      ]
    },
    {
      "cell_type": "code",
      "metadata": {
        "colab": {
          "base_uri": "https://localhost:8080/",
          "height": 518
        },
        "id": "e_kGgOj459xX",
        "outputId": "29cfb972-5d50-4ea7-85cc-296a8052bec4"
      },
      "source": [
        "import graphviz \n",
        "dot_data = tree.export_graphviz(clf, out_file=None) \n",
        "graph = graphviz.Source(dot_data) \n",
        "graph"
      ],
      "execution_count": 8,
      "outputs": [
        {
          "output_type": "execute_result",
          "data": {
            "text/plain": [
              "<graphviz.files.Source at 0x7f242baebd90>"
            ],
            "image/svg+xml": "<?xml version=\"1.0\" encoding=\"UTF-8\" standalone=\"no\"?>\n<!DOCTYPE svg PUBLIC \"-//W3C//DTD SVG 1.1//EN\"\n \"http://www.w3.org/Graphics/SVG/1.1/DTD/svg11.dtd\">\n<!-- Generated by graphviz version 2.40.1 (20161225.0304)\n -->\n<!-- Title: Tree Pages: 1 -->\n<svg width=\"276pt\" height=\"373pt\"\n viewBox=\"0.00 0.00 276.00 373.00\" xmlns=\"http://www.w3.org/2000/svg\" xmlns:xlink=\"http://www.w3.org/1999/xlink\">\n<g id=\"graph0\" class=\"graph\" transform=\"scale(1 1) rotate(0) translate(4 369)\">\n<title>Tree</title>\n<polygon fill=\"#ffffff\" stroke=\"transparent\" points=\"-4,4 -4,-369 272,-369 272,4 -4,4\"/>\n<!-- 0 -->\n<g id=\"node1\" class=\"node\">\n<title>0</title>\n<polygon fill=\"none\" stroke=\"#000000\" points=\"160.5,-365 50.5,-365 50.5,-297 160.5,-297 160.5,-365\"/>\n<text text-anchor=\"middle\" x=\"105.5\" y=\"-349.8\" font-family=\"Times,serif\" font-size=\"14.00\" fill=\"#000000\">X[2] &lt;= 0.5</text>\n<text text-anchor=\"middle\" x=\"105.5\" y=\"-334.8\" font-family=\"Times,serif\" font-size=\"14.00\" fill=\"#000000\">entropy = 0.991</text>\n<text text-anchor=\"middle\" x=\"105.5\" y=\"-319.8\" font-family=\"Times,serif\" font-size=\"14.00\" fill=\"#000000\">samples = 9</text>\n<text text-anchor=\"middle\" x=\"105.5\" y=\"-304.8\" font-family=\"Times,serif\" font-size=\"14.00\" fill=\"#000000\">value = [4, 5]</text>\n</g>\n<!-- 1 -->\n<g id=\"node2\" class=\"node\">\n<title>1</title>\n<polygon fill=\"none\" stroke=\"#000000\" points=\"95,-253.5 0,-253.5 0,-200.5 95,-200.5 95,-253.5\"/>\n<text text-anchor=\"middle\" x=\"47.5\" y=\"-238.3\" font-family=\"Times,serif\" font-size=\"14.00\" fill=\"#000000\">entropy = 0.0</text>\n<text text-anchor=\"middle\" x=\"47.5\" y=\"-223.3\" font-family=\"Times,serif\" font-size=\"14.00\" fill=\"#000000\">samples = 3</text>\n<text text-anchor=\"middle\" x=\"47.5\" y=\"-208.3\" font-family=\"Times,serif\" font-size=\"14.00\" fill=\"#000000\">value = [3, 0]</text>\n</g>\n<!-- 0&#45;&gt;1 -->\n<g id=\"edge1\" class=\"edge\">\n<title>0&#45;&gt;1</title>\n<path fill=\"none\" stroke=\"#000000\" d=\"M86.5086,-296.9465C80.3657,-285.9316 73.5399,-273.6922 67.3373,-262.5703\"/>\n<polygon fill=\"#000000\" stroke=\"#000000\" points=\"70.2299,-260.5711 62.3024,-253.5422 64.1163,-263.9806 70.2299,-260.5711\"/>\n<text text-anchor=\"middle\" x=\"55.4736\" y=\"-273.8914\" font-family=\"Times,serif\" font-size=\"14.00\" fill=\"#000000\">True</text>\n</g>\n<!-- 2 -->\n<g id=\"node3\" class=\"node\">\n<title>2</title>\n<polygon fill=\"none\" stroke=\"#000000\" points=\"216,-261 113,-261 113,-193 216,-193 216,-261\"/>\n<text text-anchor=\"middle\" x=\"164.5\" y=\"-245.8\" font-family=\"Times,serif\" font-size=\"14.00\" fill=\"#000000\">X[1] &lt;= 0.5</text>\n<text text-anchor=\"middle\" x=\"164.5\" y=\"-230.8\" font-family=\"Times,serif\" font-size=\"14.00\" fill=\"#000000\">entropy = 0.65</text>\n<text text-anchor=\"middle\" x=\"164.5\" y=\"-215.8\" font-family=\"Times,serif\" font-size=\"14.00\" fill=\"#000000\">samples = 6</text>\n<text text-anchor=\"middle\" x=\"164.5\" y=\"-200.8\" font-family=\"Times,serif\" font-size=\"14.00\" fill=\"#000000\">value = [1, 5]</text>\n</g>\n<!-- 0&#45;&gt;2 -->\n<g id=\"edge2\" class=\"edge\">\n<title>0&#45;&gt;2</title>\n<path fill=\"none\" stroke=\"#000000\" d=\"M124.8188,-296.9465C129.7087,-288.3271 135.0239,-278.9579 140.1278,-269.9611\"/>\n<polygon fill=\"#000000\" stroke=\"#000000\" points=\"143.2476,-271.5549 145.1378,-261.13 137.1592,-268.1008 143.2476,-271.5549\"/>\n<text text-anchor=\"middle\" x=\"151.7908\" y=\"-281.5285\" font-family=\"Times,serif\" font-size=\"14.00\" fill=\"#000000\">False</text>\n</g>\n<!-- 3 -->\n<g id=\"node4\" class=\"node\">\n<title>3</title>\n<polygon fill=\"none\" stroke=\"#000000\" points=\"155,-157 60,-157 60,-89 155,-89 155,-157\"/>\n<text text-anchor=\"middle\" x=\"107.5\" y=\"-141.8\" font-family=\"Times,serif\" font-size=\"14.00\" fill=\"#000000\">X[0] &lt;= 0.5</text>\n<text text-anchor=\"middle\" x=\"107.5\" y=\"-126.8\" font-family=\"Times,serif\" font-size=\"14.00\" fill=\"#000000\">entropy = 1.0</text>\n<text text-anchor=\"middle\" x=\"107.5\" y=\"-111.8\" font-family=\"Times,serif\" font-size=\"14.00\" fill=\"#000000\">samples = 2</text>\n<text text-anchor=\"middle\" x=\"107.5\" y=\"-96.8\" font-family=\"Times,serif\" font-size=\"14.00\" fill=\"#000000\">value = [1, 1]</text>\n</g>\n<!-- 2&#45;&gt;3 -->\n<g id=\"edge3\" class=\"edge\">\n<title>2&#45;&gt;3</title>\n<path fill=\"none\" stroke=\"#000000\" d=\"M145.8361,-192.9465C141.112,-184.3271 135.9769,-174.9579 131.046,-165.9611\"/>\n<polygon fill=\"#000000\" stroke=\"#000000\" points=\"134.0814,-164.2171 126.2059,-157.13 127.9429,-167.5815 134.0814,-164.2171\"/>\n</g>\n<!-- 6 -->\n<g id=\"node7\" class=\"node\">\n<title>6</title>\n<polygon fill=\"none\" stroke=\"#000000\" points=\"268,-149.5 173,-149.5 173,-96.5 268,-96.5 268,-149.5\"/>\n<text text-anchor=\"middle\" x=\"220.5\" y=\"-134.3\" font-family=\"Times,serif\" font-size=\"14.00\" fill=\"#000000\">entropy = 0.0</text>\n<text text-anchor=\"middle\" x=\"220.5\" y=\"-119.3\" font-family=\"Times,serif\" font-size=\"14.00\" fill=\"#000000\">samples = 4</text>\n<text text-anchor=\"middle\" x=\"220.5\" y=\"-104.3\" font-family=\"Times,serif\" font-size=\"14.00\" fill=\"#000000\">value = [0, 4]</text>\n</g>\n<!-- 2&#45;&gt;6 -->\n<g id=\"edge6\" class=\"edge\">\n<title>2&#45;&gt;6</title>\n<path fill=\"none\" stroke=\"#000000\" d=\"M182.8365,-192.9465C188.7676,-181.9316 195.3581,-169.6922 201.3468,-158.5703\"/>\n<polygon fill=\"#000000\" stroke=\"#000000\" points=\"204.5487,-160.0063 206.2081,-149.5422 198.3854,-156.6875 204.5487,-160.0063\"/>\n</g>\n<!-- 4 -->\n<g id=\"node5\" class=\"node\">\n<title>4</title>\n<polygon fill=\"none\" stroke=\"#000000\" points=\"99,-53 4,-53 4,0 99,0 99,-53\"/>\n<text text-anchor=\"middle\" x=\"51.5\" y=\"-37.8\" font-family=\"Times,serif\" font-size=\"14.00\" fill=\"#000000\">entropy = 0.0</text>\n<text text-anchor=\"middle\" x=\"51.5\" y=\"-22.8\" font-family=\"Times,serif\" font-size=\"14.00\" fill=\"#000000\">samples = 1</text>\n<text text-anchor=\"middle\" x=\"51.5\" y=\"-7.8\" font-family=\"Times,serif\" font-size=\"14.00\" fill=\"#000000\">value = [0, 1]</text>\n</g>\n<!-- 3&#45;&gt;4 -->\n<g id=\"edge4\" class=\"edge\">\n<title>3&#45;&gt;4</title>\n<path fill=\"none\" stroke=\"#000000\" d=\"M87.7565,-88.9777C82.7083,-80.2786 77.2669,-70.9018 72.1734,-62.1247\"/>\n<polygon fill=\"#000000\" stroke=\"#000000\" points=\"75.0689,-60.1409 67.0224,-53.2485 69.0145,-63.6544 75.0689,-60.1409\"/>\n</g>\n<!-- 5 -->\n<g id=\"node6\" class=\"node\">\n<title>5</title>\n<polygon fill=\"none\" stroke=\"#000000\" points=\"212,-53 117,-53 117,0 212,0 212,-53\"/>\n<text text-anchor=\"middle\" x=\"164.5\" y=\"-37.8\" font-family=\"Times,serif\" font-size=\"14.00\" fill=\"#000000\">entropy = 0.0</text>\n<text text-anchor=\"middle\" x=\"164.5\" y=\"-22.8\" font-family=\"Times,serif\" font-size=\"14.00\" fill=\"#000000\">samples = 1</text>\n<text text-anchor=\"middle\" x=\"164.5\" y=\"-7.8\" font-family=\"Times,serif\" font-size=\"14.00\" fill=\"#000000\">value = [1, 0]</text>\n</g>\n<!-- 3&#45;&gt;5 -->\n<g id=\"edge5\" class=\"edge\">\n<title>3&#45;&gt;5</title>\n<path fill=\"none\" stroke=\"#000000\" d=\"M127.5961,-88.9777C132.7344,-80.2786 138.273,-70.9018 143.4575,-62.1247\"/>\n<polygon fill=\"#000000\" stroke=\"#000000\" points=\"146.6281,-63.6387 148.7004,-53.2485 140.601,-60.0786 146.6281,-63.6387\"/>\n</g>\n</g>\n</svg>\n"
          },
          "metadata": {
            "tags": []
          },
          "execution_count": 8
        }
      ]
    }
  ]
}