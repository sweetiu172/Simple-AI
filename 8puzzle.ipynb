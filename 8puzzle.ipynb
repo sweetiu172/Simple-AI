{
  "nbformat": 4,
  "nbformat_minor": 5,
  "metadata": {
    "kernelspec": {
      "display_name": "Python 3",
      "language": "python",
      "name": "python3"
    },
    "language_info": {
      "codemirror_mode": {
        "name": "ipython",
        "version": 3
      },
      "file_extension": ".py",
      "mimetype": "text/x-python",
      "name": "python",
      "nbconvert_exporter": "python",
      "pygments_lexer": "ipython3",
      "version": "3.9.4"
    },
    "colab": {
      "name": "Untitled.ipynb",
      "provenance": []
    }
  },
  "cells": [
    {
      "cell_type": "code",
      "metadata": {
        "id": "4949918f"
      },
      "source": [
        "import random as r\n",
        "import numpy as np     \n",
        "\n",
        "final_state = np.array([[1,2,3],[4,5,6],[7,8,0]])\n",
        "temp = list(final_state.flatten())\n"
      ],
      "id": "4949918f",
      "execution_count": 125,
      "outputs": []
    },
    {
      "cell_type": "code",
      "metadata": {
        "id": "5ea5580a",
        "outputId": "a897c568-b148-4690-c1b3-87f84f50e362",
        "colab": {
          "base_uri": "https://localhost:8080/"
        }
      },
      "source": [
        "initial_state = np.array([[1, 8, 2], [0, 4, 3], [7, 6, 5]])\n",
        "print(initial_state)"
      ],
      "id": "5ea5580a",
      "execution_count": 127,
      "outputs": [
        {
          "output_type": "stream",
          "text": [
            "[[1 8 2]\n",
            " [0 4 3]\n",
            " [7 6 5]]\n"
          ],
          "name": "stdout"
        }
      ]
    },
    {
      "cell_type": "code",
      "metadata": {
        "id": "e207e60e"
      },
      "source": [
        "#tìm đường đi\n",
        "\n",
        "def find_path(state):\n",
        "    #tìm vị trí của số 0\n",
        "    row = np.squeeze(np.where(state == 0)[0]) \n",
        "    col = np.squeeze(np.where(state == 0)[1])\n",
        "    # up\n",
        "    if (row - 1) >= 0:\n",
        "        temp = state.copy()\n",
        "        temp[row,col], temp[row-1,col] = temp[row-1,col], temp[row,col] #đổi vị trí\n",
        "        yield temp\n",
        "    #down\n",
        "    if (row + 1) < len(state):\n",
        "        temp = state.copy()\n",
        "        temp[row,col], temp[row+1,col] = temp[row+1,col], temp[row,col] #đổi vị trí\n",
        "        yield temp\n",
        "    #right\n",
        "    if (col + 1) < len(state):\n",
        "        temp = state.copy()\n",
        "        temp[row,col], temp[row,col+1] = temp[row,col+1], temp[row,col] #đổi vị trí\n",
        "        yield temp\n",
        "    #left\n",
        "    if (col - 1) >= 0:\n",
        "        temp = state.copy()\n",
        "        temp[row,col], temp[row,col-1] = temp[row,col-1], temp[row,col] #đổi vị trí\n",
        "        yield temp"
      ],
      "id": "e207e60e",
      "execution_count": 128,
      "outputs": []
    },
    {
      "cell_type": "code",
      "metadata": {
        "id": "351f5927"
      },
      "source": [
        "#tính h-score\n",
        "def h(state, goal):\n",
        "    score = 0\n",
        "    for i in range(len(state)):\n",
        "        for j in range(len(state[i])):\n",
        "            if state[i,j] != goal[i,j] and state[i,j] != 0:\n",
        "                score += 1\n",
        "    return score"
      ],
      "id": "351f5927",
      "execution_count": 129,
      "outputs": []
    },
    {
      "cell_type": "code",
      "metadata": {
        "id": "d20f7c65",
        "outputId": "cee2e4cd-8ba0-49f0-d5bf-d47c7c28fc80",
        "colab": {
          "base_uri": "https://localhost:8080/"
        }
      },
      "source": [
        "closed_queue = []\n",
        "\n",
        "g_score = 1\n",
        "state = initial_state.copy()\n",
        "temp_queue = list(find_path(state))\n",
        "f_score_first_state = [g_score + h(state, final_state) for state in temp_queue]\n",
        "\n",
        "priority_queue = list(zip(temp_queue, f_score_first_state))\n",
        "sorted(priority_queue, key=lambda x: x[1])\n",
        "\n",
        "priority_queue = [[[state[0]],state[1]] for state in priority_queue]\n",
        "\n",
        "while priority_queue != []:\n",
        "    p = priority_queue.pop(0)\n",
        "    x = p[0][-1]\n",
        "    g_score = len(p[0])\n",
        "    if (g_score > 15):\n",
        "      print('Không thể giải được')\n",
        "      break\n",
        "    if x.tolist() in closed_queue:\n",
        "        continue\n",
        "    if np.array_equal(x, final_state):\n",
        "        print('Level: 0')\n",
        "        print(initial_state)\n",
        "        for idx in range(len(p[0])):\n",
        "            print('*'*20)\n",
        "            print('Level: ',idx+1)\n",
        "            print(p[0][idx])\n",
        "        break\n",
        "    closed_queue.append(x.tolist())\n",
        "    for y in find_path(x):\n",
        "        subtemp = p[0].copy()\n",
        "        f_score = g_score + 1 + h(y, final_state)\n",
        "        subtemp.append(y)\n",
        "        temp = [subtemp, f_score]\n",
        "        priority_queue.append(temp)\n",
        "    priority_queue = sorted(priority_queue, key=lambda x: x[1])\n",
        "    \n",
        "    \n"
      ],
      "id": "d20f7c65",
      "execution_count": 130,
      "outputs": [
        {
          "output_type": "stream",
          "text": [
            "Level: 0\n",
            "[[1 8 2]\n",
            " [0 4 3]\n",
            " [7 6 5]]\n",
            "********************\n",
            "Level:  1\n",
            "[[1 8 2]\n",
            " [4 0 3]\n",
            " [7 6 5]]\n",
            "********************\n",
            "Level:  2\n",
            "[[1 0 2]\n",
            " [4 8 3]\n",
            " [7 6 5]]\n",
            "********************\n",
            "Level:  3\n",
            "[[1 2 0]\n",
            " [4 8 3]\n",
            " [7 6 5]]\n",
            "********************\n",
            "Level:  4\n",
            "[[1 2 3]\n",
            " [4 8 0]\n",
            " [7 6 5]]\n",
            "********************\n",
            "Level:  5\n",
            "[[1 2 3]\n",
            " [4 8 5]\n",
            " [7 6 0]]\n",
            "********************\n",
            "Level:  6\n",
            "[[1 2 3]\n",
            " [4 8 5]\n",
            " [7 0 6]]\n",
            "********************\n",
            "Level:  7\n",
            "[[1 2 3]\n",
            " [4 0 5]\n",
            " [7 8 6]]\n",
            "********************\n",
            "Level:  8\n",
            "[[1 2 3]\n",
            " [4 5 0]\n",
            " [7 8 6]]\n",
            "********************\n",
            "Level:  9\n",
            "[[1 2 3]\n",
            " [4 5 6]\n",
            " [7 8 0]]\n"
          ],
          "name": "stdout"
        }
      ]
    }
  ]
}