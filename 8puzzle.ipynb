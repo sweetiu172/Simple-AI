{
 "cells": [
  {
   "cell_type": "code",
   "execution_count": 3,
   "id": "4949918f",
   "metadata": {
    "id": "4949918f"
   },
   "outputs": [],
   "source": [
    "import random as r\n",
    "import numpy as np     \n",
    "\n",
    "final_state = np.array([[1,2,3,4],[12,13,14,5],[11,0,15,6],[10,9,8,7]])\n",
    "temp = list(final_state.flatten())\n"
   ]
  },
  {
   "cell_type": "code",
   "execution_count": 5,
   "id": "5ea5580a",
   "metadata": {
    "colab": {
     "base_uri": "https://localhost:8080/"
    },
    "id": "5ea5580a",
    "outputId": "a897c568-b148-4690-c1b3-87f84f50e362"
   },
   "outputs": [
    {
     "name": "stdout",
     "output_type": "stream",
     "text": [
      "[[11 14  4  7]\n",
      " [10  6  0  5]\n",
      " [ 1  2 13 15]\n",
      " [ 9 12  8  3]]\n"
     ]
    }
   ],
   "source": [
    "initial_state = '11 14 4 7 10 6 0 5 1 2 13 15 9 12 8 3'\n",
    "initial_state = np.fromstring(initial_state, dtype=int, sep=' ')\n",
    "initial_state = np.reshape(initial_state, (4,4)).astype(int)\n",
    "print(initial_state)"
   ]
  },
  {
   "cell_type": "code",
   "execution_count": 6,
   "id": "e207e60e",
   "metadata": {
    "id": "e207e60e"
   },
   "outputs": [],
   "source": [
    "#tìm đường đi\n",
    "\n",
    "def find_path(state):\n",
    "    #tìm vị trí của số 0\n",
    "    row = np.squeeze(np.where(state == 0)[0]) \n",
    "    col = np.squeeze(np.where(state == 0)[1])\n",
    "    # up\n",
    "    if (row - 1) >= 0:\n",
    "        temp = state.copy()\n",
    "        temp[row,col], temp[row-1,col] = temp[row-1,col], temp[row,col] #đổi vị trí\n",
    "        yield temp\n",
    "    #down\n",
    "    if (row + 1) < len(state):\n",
    "        temp = state.copy()\n",
    "        temp[row,col], temp[row+1,col] = temp[row+1,col], temp[row,col] #đổi vị trí\n",
    "        yield temp\n",
    "    #right\n",
    "    if (col + 1) < len(state):\n",
    "        temp = state.copy()\n",
    "        temp[row,col], temp[row,col+1] = temp[row,col+1], temp[row,col] #đổi vị trí\n",
    "        yield temp\n",
    "    #left\n",
    "    if (col - 1) >= 0:\n",
    "        temp = state.copy()\n",
    "        temp[row,col], temp[row,col-1] = temp[row,col-1], temp[row,col] #đổi vị trí\n",
    "        yield temp"
   ]
  },
  {
   "cell_type": "code",
   "execution_count": 7,
   "id": "351f5927",
   "metadata": {
    "id": "351f5927"
   },
   "outputs": [],
   "source": [
    "#tính h-score\n",
    "def h(state, goal):\n",
    "    score = 0\n",
    "    for i in range(len(state)):\n",
    "        for j in range(len(state[i])):\n",
    "            if state[i,j] != goal[i,j] and state[i,j] != 0:\n",
    "                score += 1\n",
    "    return score"
   ]
  },
  {
   "cell_type": "code",
   "execution_count": 8,
   "id": "d20f7c65",
   "metadata": {
    "colab": {
     "base_uri": "https://localhost:8080/"
    },
    "id": "d20f7c65",
    "outputId": "cee2e4cd-8ba0-49f0-d5bf-d47c7c28fc80"
   },
   "outputs": [
    {
     "ename": "KeyboardInterrupt",
     "evalue": "",
     "output_type": "error",
     "traceback": [
      "\u001b[1;31m---------------------------------------------------------------------------\u001b[0m",
      "\u001b[1;31mKeyboardInterrupt\u001b[0m                         Traceback (most recent call last)",
      "\u001b[1;32m<ipython-input-8-a245213abf0e>\u001b[0m in \u001b[0;36m<module>\u001b[1;34m\u001b[0m\n\u001b[0;32m     39\u001b[0m         \u001b[0mtemp\u001b[0m \u001b[1;33m=\u001b[0m \u001b[1;33m[\u001b[0m\u001b[0msubtemp\u001b[0m\u001b[1;33m,\u001b[0m \u001b[0mf_score\u001b[0m\u001b[1;33m]\u001b[0m\u001b[1;33m\u001b[0m\u001b[1;33m\u001b[0m\u001b[0m\n\u001b[0;32m     40\u001b[0m         \u001b[0mpriority_queue\u001b[0m\u001b[1;33m.\u001b[0m\u001b[0mappend\u001b[0m\u001b[1;33m(\u001b[0m\u001b[0mtemp\u001b[0m\u001b[1;33m)\u001b[0m\u001b[1;33m\u001b[0m\u001b[1;33m\u001b[0m\u001b[0m\n\u001b[1;32m---> 41\u001b[1;33m     \u001b[0mpriority_queue\u001b[0m \u001b[1;33m=\u001b[0m \u001b[0msorted\u001b[0m\u001b[1;33m(\u001b[0m\u001b[0mpriority_queue\u001b[0m\u001b[1;33m,\u001b[0m \u001b[0mkey\u001b[0m\u001b[1;33m=\u001b[0m\u001b[1;32mlambda\u001b[0m \u001b[0mx\u001b[0m\u001b[1;33m:\u001b[0m \u001b[0mx\u001b[0m\u001b[1;33m[\u001b[0m\u001b[1;36m1\u001b[0m\u001b[1;33m]\u001b[0m\u001b[1;33m)\u001b[0m\u001b[1;33m\u001b[0m\u001b[1;33m\u001b[0m\u001b[0m\n\u001b[0m\u001b[0;32m     42\u001b[0m \u001b[1;33m\u001b[0m\u001b[0m\n\u001b[0;32m     43\u001b[0m \u001b[0mend\u001b[0m \u001b[1;33m=\u001b[0m \u001b[0mtime\u001b[0m\u001b[1;33m.\u001b[0m\u001b[0mtime\u001b[0m\u001b[1;33m(\u001b[0m\u001b[1;33m)\u001b[0m\u001b[1;33m\u001b[0m\u001b[1;33m\u001b[0m\u001b[0m\n",
      "\u001b[1;32m<ipython-input-8-a245213abf0e>\u001b[0m in \u001b[0;36m<lambda>\u001b[1;34m(x)\u001b[0m\n\u001b[0;32m     39\u001b[0m         \u001b[0mtemp\u001b[0m \u001b[1;33m=\u001b[0m \u001b[1;33m[\u001b[0m\u001b[0msubtemp\u001b[0m\u001b[1;33m,\u001b[0m \u001b[0mf_score\u001b[0m\u001b[1;33m]\u001b[0m\u001b[1;33m\u001b[0m\u001b[1;33m\u001b[0m\u001b[0m\n\u001b[0;32m     40\u001b[0m         \u001b[0mpriority_queue\u001b[0m\u001b[1;33m.\u001b[0m\u001b[0mappend\u001b[0m\u001b[1;33m(\u001b[0m\u001b[0mtemp\u001b[0m\u001b[1;33m)\u001b[0m\u001b[1;33m\u001b[0m\u001b[1;33m\u001b[0m\u001b[0m\n\u001b[1;32m---> 41\u001b[1;33m     \u001b[0mpriority_queue\u001b[0m \u001b[1;33m=\u001b[0m \u001b[0msorted\u001b[0m\u001b[1;33m(\u001b[0m\u001b[0mpriority_queue\u001b[0m\u001b[1;33m,\u001b[0m \u001b[0mkey\u001b[0m\u001b[1;33m=\u001b[0m\u001b[1;32mlambda\u001b[0m \u001b[0mx\u001b[0m\u001b[1;33m:\u001b[0m \u001b[0mx\u001b[0m\u001b[1;33m[\u001b[0m\u001b[1;36m1\u001b[0m\u001b[1;33m]\u001b[0m\u001b[1;33m)\u001b[0m\u001b[1;33m\u001b[0m\u001b[1;33m\u001b[0m\u001b[0m\n\u001b[0m\u001b[0;32m     42\u001b[0m \u001b[1;33m\u001b[0m\u001b[0m\n\u001b[0;32m     43\u001b[0m \u001b[0mend\u001b[0m \u001b[1;33m=\u001b[0m \u001b[0mtime\u001b[0m\u001b[1;33m.\u001b[0m\u001b[0mtime\u001b[0m\u001b[1;33m(\u001b[0m\u001b[1;33m)\u001b[0m\u001b[1;33m\u001b[0m\u001b[1;33m\u001b[0m\u001b[0m\n",
      "\u001b[1;31mKeyboardInterrupt\u001b[0m: "
     ]
    }
   ],
   "source": [
    "import time \n",
    "\n",
    "start = time.time()\n",
    "closed_queue = []\n",
    "\n",
    "g_score = 1\n",
    "state = initial_state.copy()\n",
    "temp_queue = list(find_path(state))\n",
    "f_score_first_state = [g_score + h(state, final_state) for state in temp_queue]\n",
    "\n",
    "priority_queue = list(zip(temp_queue, f_score_first_state))\n",
    "priority_queue = sorted(priority_queue, key=lambda x: x[1])\n",
    "\n",
    "priority_queue = [[[state[0]],state[1]] for state in priority_queue]\n",
    "\n",
    "while priority_queue != []:\n",
    "\n",
    "    p = priority_queue.pop(0)\n",
    "    x = p[0][-1]\n",
    "    g_score = len(p[0])\n",
    "    if (g_score > 100):\n",
    "        print('Không thể giải được') #Break point\n",
    "        break\n",
    "    if x.tolist() in closed_queue:\n",
    "        continue\n",
    "    if np.array_equal(x, final_state):\n",
    "        print('Level: 0')\n",
    "        print(initial_state)\n",
    "        for idx in range(len(p[0])):\n",
    "            print('*'*20)\n",
    "            print('Level: ',idx+1)\n",
    "            print(p[0][idx])\n",
    "        break\n",
    "    closed_queue.append(x.tolist())\n",
    "    for y in find_path(x):\n",
    "        subtemp = p[0].copy()\n",
    "        f_score = g_score + 1 + h(y, final_state)\n",
    "        subtemp.append(y)\n",
    "        temp = [subtemp, f_score]\n",
    "        priority_queue.append(temp)\n",
    "    priority_queue = sorted(priority_queue, key=lambda x: x[1])\n",
    "    \n",
    "end = time.time()\n",
    "\n",
    "print('Run time: ', end-start, 's')\n",
    "\n"
   ]
  }
 ],
 "metadata": {
  "colab": {
   "name": "Untitled.ipynb",
   "provenance": []
  },
  "kernelspec": {
   "display_name": "Python 3",
   "language": "python",
   "name": "python3"
  },
  "language_info": {
   "codemirror_mode": {
    "name": "ipython",
    "version": 3
   },
   "file_extension": ".py",
   "mimetype": "text/x-python",
   "name": "python",
   "nbconvert_exporter": "python",
   "pygments_lexer": "ipython3",
   "version": "3.9.4"
  }
 },
 "nbformat": 4,
 "nbformat_minor": 5
}
