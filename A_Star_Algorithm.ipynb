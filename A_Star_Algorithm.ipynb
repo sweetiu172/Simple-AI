{
  "nbformat": 4,
  "nbformat_minor": 0,
  "metadata": {
    "colab": {
      "name": "A_Star_Algorithm.ipynb",
      "provenance": [],
      "collapsed_sections": []
    },
    "kernelspec": {
      "name": "python3",
      "display_name": "Python 3"
    },
    "language_info": {
      "name": "python"
    }
  },
  "cells": [
    {
      "cell_type": "code",
      "metadata": {
        "id": "wx8LI5sKV9xn"
      },
      "source": [
        "from collections import defaultdict\n",
        "from queue import PriorityQueue\n",
        "\n",
        "data = defaultdict(list)\n",
        "data['A'] = ['B',2,'C',1,'D',3,6]\n",
        "data['B']= ['E',5,'F',4,3]\n",
        "data['C']= ['G',6,'H',3,4]\n",
        "data['D']= ['I',3,'J',4,5]\n",
        "data['E']= [3]\n",
        "data['F'] = ['K',2,'L',1,'M',4,1]\n",
        "data['G'] = [6]\n",
        "data['H'] = ['N',2,'O',4,2]\n",
        "data['I'] = [5]\n",
        "data['J'] = [4]\n",
        "data['K'] = [2]\n",
        "data['L'] = [0]\n",
        "data['M'] = [4]\n",
        "data['N'] = [0]\n",
        "data['O'] = [4]\n",
        "\n",
        "class Node:\n",
        "    def __init__(self, name, par = None, g = 0, h = 0):\n",
        "        self.name = name\n",
        "        self.par = par\n",
        "        self.g = g\n",
        "        self.h = h\n",
        "    \n",
        "    def display(self):\n",
        "        print(self.name,self.g,self.h)\n",
        "    \n",
        "    def __lt__(self,other):\n",
        "        if other == None:\n",
        "            return False\n",
        "        return self.g + self.h < other.g + other.h\n",
        "\n",
        "    def __eq__(self, other):\n",
        "        if other == None:\n",
        "            return False\n",
        "        return self.name == other.name"
      ],
      "execution_count": 33,
      "outputs": []
    },
    {
      "cell_type": "code",
      "metadata": {
        "id": "vOlqfoqXgvMr"
      },
      "source": [
        "def equal(O,G):\n",
        "        if O.name == G.name:\n",
        "            return True\n",
        "        return False\n",
        "    \n",
        "def CheckInPriority(tmp,c):\n",
        "        if tmp == None:\n",
        "            return False\n",
        "        return (tmp in c.queue)\n",
        "    \n",
        "def getPath(O):\n",
        "      print(O.name)\n",
        "      if O.par != None:\n",
        "        getPath(O.par)\n",
        "      else:\n",
        "        return \n",
        "\n",
        "def AStar(S = Node('A'), G = Node('N')):\n",
        "      Open = PriorityQueue()\n",
        "      Closed = PriorityQueue()\n",
        "      S.h = data[S.name][-1]\n",
        "      Open.put(S)\n",
        "\n",
        "      while True:\n",
        "        if Open.empty() == True:\n",
        "            print('Tim kiem that bai')\n",
        "            return\n",
        "        O = Open.get()\n",
        "        Closed.put(O)\n",
        "        print('Duyet: ' ,O.name, O.g, O.h)\n",
        "\n",
        "        if equal(O,G) == True:\n",
        "          print('Tim kiem thanh cong')\n",
        "          getPath(O)\n",
        "          print('Distance: ', (O.g + O.h))\n",
        "          return\n",
        "        \n",
        "        #tim cac node con \n",
        "        i = 0\n",
        "        while i < len(data[O.name]) -1:\n",
        "          name = data[O.name][i]\n",
        "          g = O.g + data[O.name][i+1]\n",
        "          h = data[name][-1]\n",
        "          tmp = Node(name = name , g = g, h = h)\n",
        "          tmp.par = O\n",
        "\n",
        "          check1 = CheckInPriority(tmp, Open)\n",
        "          check2= CheckInPriority(tmp, Closed)\n",
        "          if not check1 and not check2: \n",
        "            Open.put(tmp)\n",
        "          i += 2"
      ],
      "execution_count": 32,
      "outputs": []
    },
    {
      "cell_type": "code",
      "metadata": {
        "colab": {
          "base_uri": "https://localhost:8080/"
        },
        "id": "MBcGtf50lEho",
        "outputId": "e3550d13-3a12-4b65-8268-b0d98efa0a95"
      },
      "source": [
        "AStar(Node('A'), Node('O'))"
      ],
      "execution_count": 35,
      "outputs": [
        {
          "output_type": "stream",
          "text": [
            "Duyet:  A 0 6\n",
            "Duyet:  B 2 3\n",
            "Duyet:  C 1 4\n",
            "Duyet:  H 4 2\n",
            "Duyet:  N 6 0\n",
            "Duyet:  F 6 1\n",
            "Duyet:  L 7 0\n",
            "Duyet:  D 3 5\n",
            "Duyet:  E 7 3\n",
            "Duyet:  K 8 2\n",
            "Duyet:  I 6 5\n",
            "Duyet:  J 7 4\n",
            "Duyet:  O 8 4\n",
            "Tim kiem thanh cong\n",
            "O\n",
            "H\n",
            "C\n",
            "A\n",
            "Distance:  12\n"
          ],
          "name": "stdout"
        }
      ]
    }
  ]
}