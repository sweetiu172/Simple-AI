{
 "cells": [
  {
   "cell_type": "code",
   "execution_count": 14,
   "id": "88fc731d",
   "metadata": {},
   "outputs": [],
   "source": [
    "board = [['','',''],['','',''],['','','']]"
   ]
  },
  {
   "cell_type": "code",
   "execution_count": 15,
   "id": "4751319d",
   "metadata": {},
   "outputs": [
    {
     "name": "stdout",
     "output_type": "stream",
     "text": [
      "True\n"
     ]
    }
   ],
   "source": [
    "def isBoardFull():\n",
    "    for row in board:\n",
    "        if '' in row:\n",
    "            return True\n",
    "    return False\n",
    "\n",
    "print(isBoardEmpty())"
   ]
  }
 ],
 "metadata": {
  "kernelspec": {
   "display_name": "Python 3",
   "language": "python",
   "name": "python3"
  },
  "language_info": {
   "codemirror_mode": {
    "name": "ipython",
    "version": 3
   },
   "file_extension": ".py",
   "mimetype": "text/x-python",
   "name": "python",
   "nbconvert_exporter": "python",
   "pygments_lexer": "ipython3",
   "version": "3.9.4"
  }
 },
 "nbformat": 4,
 "nbformat_minor": 5
}
