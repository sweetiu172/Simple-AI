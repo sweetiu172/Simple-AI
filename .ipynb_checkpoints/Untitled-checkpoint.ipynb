{
 "cells": [
  {
   "cell_type": "code",
   "execution_count": 1,
   "id": "4949918f",
   "metadata": {},
   "outputs": [],
   "source": [
    "import random as r\n",
    "import numpy as np     \n",
    "\n",
    "final_state = np.array([[1,2,3],[4,5,6],[7,8,0]])\n",
    "temp = list(final_state.flatten())\n"
   ]
  },
  {
   "cell_type": "code",
   "execution_count": 2,
   "id": "dbb59708",
   "metadata": {},
   "outputs": [],
   "source": [
    "initial_state = np.zeros(9)\n",
    "idx = 0\n",
    "\n",
    "#tạo trạng thái bắt đầu ngẫu nhiên\n",
    "\n",
    "while temp != []: \n",
    "    ele = r.choice(temp)\n",
    "    temp.remove(ele)\n",
    "    initial_state[idx] = ele\n",
    "    idx += 1\n",
    "    "
   ]
  },
  {
   "cell_type": "code",
   "execution_count": 3,
   "id": "5ea5580a",
   "metadata": {},
   "outputs": [
    {
     "name": "stdout",
     "output_type": "stream",
     "text": [
      "[[5. 0. 3.]\n",
      " [6. 7. 4.]\n",
      " [1. 8. 2.]]\n"
     ]
    }
   ],
   "source": [
    "initial_state = initial_state.reshape((3, 3))\n",
    "print(initial_state)\n",
    "# initial_state = np.array([[2,4,3],[1,6,8],[7,5,0]])"
   ]
  },
  {
   "cell_type": "code",
   "execution_count": 4,
   "id": "e207e60e",
   "metadata": {},
   "outputs": [],
   "source": [
    "#tìm đường đi\n",
    "\n",
    "def find_path(state):\n",
    "    #tìm vị trí của số 0\n",
    "    row = np.squeeze(np.where(state == 0)[0]) \n",
    "    col = np.squeeze(np.where(state == 0)[1])\n",
    "    # up\n",
    "    if (row - 1) >= 0:\n",
    "        temp = state.copy()\n",
    "        temp[row,col], temp[row-1,col] = temp[row-1,col], temp[row,col] #đổi vị trí\n",
    "        yield temp\n",
    "    #down\n",
    "    if (row + 1) < len(state):\n",
    "        temp = state.copy()\n",
    "        temp[row,col], temp[row+1,col] = temp[row+1,col], temp[row,col] #đổi vị trí\n",
    "        yield temp\n",
    "    #right\n",
    "    if (col + 1) < len(state):\n",
    "        temp = state.copy()\n",
    "        temp[row,col], temp[row,col+1] = temp[row,col+1], temp[row,col] #đổi vị trí\n",
    "        yield temp\n",
    "    #left\n",
    "    if (col - 1) >= 0:\n",
    "        temp = state.copy()\n",
    "        temp[row,col], temp[row,col-1] = temp[row,col-1], temp[row,col] #đổi vị trí\n",
    "        yield temp"
   ]
  },
  {
   "cell_type": "code",
   "execution_count": 5,
   "id": "351f5927",
   "metadata": {},
   "outputs": [],
   "source": [
    "#tính h-score\n",
    "def h(state, goal):\n",
    "    score = 0\n",
    "    for i in range(len(state)):\n",
    "        for j in range(len(state[i])):\n",
    "            if state[i,j] != goal[i,j] and state[i,j] != 0:\n",
    "                score += 1\n",
    "    return score"
   ]
  },
  {
   "cell_type": "code",
   "execution_count": 6,
   "id": "1755fccf",
   "metadata": {},
   "outputs": [],
   "source": [
    "def checkInQueue(state, global_queue):\n",
    "    if state.tolist() in global_queue:\n",
    "        return True\n",
    "    return False"
   ]
  },
  {
   "cell_type": "code",
   "execution_count": null,
   "id": "d20f7c65",
   "metadata": {},
   "outputs": [],
   "source": [
    "closed_queue = []\n",
    "\n",
    "g_score = 1\n",
    "state = initial_state.copy()\n",
    "temp_queue = list(find_path(state))\n",
    "f_score_first_state = [g_score + h(state, final_state) for state in temp_queue]\n",
    "\n",
    "priority_queue = list(zip(temp_queue, f_score_first_state))\n",
    "sorted(priority_queue, key=lambda x: x[1])\n",
    "\n",
    "priority_queue = [[[state[0]],state[1]] for state in priority_queue]\n",
    "\n",
    "while priority_queue != []:\n",
    "    p = priority_queue.pop(0)\n",
    "    x = p[0][-1]\n",
    "    g_score = len(p[0])\n",
    "    \n",
    "    if x.tolist() in closed_queue:\n",
    "        continue\n",
    "    if np.array_equal(x, final_state):\n",
    "        print(initial_state)\n",
    "        for state in p[0]:\n",
    "            print('*'*20)\n",
    "            print(state)\n",
    "            print('*'*20)\n",
    "        break\n",
    "    closed_queue.append(x.tolist())\n",
    "    for y in find_path(x):\n",
    "        subtemp = p[0].copy()\n",
    "        f_score = g_score + 1 + h(y, final_state)\n",
    "        subtemp.append(y)\n",
    "        temp = [subtemp, f_score]\n",
    "        priority_queue.append(temp)\n",
    "    priority_queue = sorted(priority_queue, key=lambda x: x[1])\n",
    "    \n",
    "    \n"
   ]
  },
  {
   "cell_type": "code",
   "execution_count": null,
   "id": "a82239db",
   "metadata": {},
   "outputs": [],
   "source": [
    "a = np.array([[2, 4, 3], [1, 6, 0], [7, 5, 8]])\n",
    "b = [[2, 4, 3], [1, 6, 0], [7, 5, 8]]\n",
    "print(np.array_equal(a,b))"
   ]
  }
 ],
 "metadata": {
  "kernelspec": {
   "display_name": "Python 3",
   "language": "python",
   "name": "python3"
  },
  "language_info": {
   "codemirror_mode": {
    "name": "ipython",
    "version": 3
   },
   "file_extension": ".py",
   "mimetype": "text/x-python",
   "name": "python",
   "nbconvert_exporter": "python",
   "pygments_lexer": "ipython3",
   "version": "3.9.4"
  }
 },
 "nbformat": 4,
 "nbformat_minor": 5
}
