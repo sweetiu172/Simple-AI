{
  "nbformat": 4,
  "nbformat_minor": 0,
  "metadata": {
    "colab": {
      "name": "genetic algorithm for tsp.ipynb",
      "provenance": [],
      "collapsed_sections": []
    },
    "kernelspec": {
      "name": "python3",
      "display_name": "Python 3"
    },
    "language_info": {
      "name": "python"
    }
  },
  "cells": [
    {
      "cell_type": "code",
      "metadata": {
        "id": "Ac8WZcwA4i01",
        "colab": {
          "base_uri": "https://localhost:8080/"
        },
        "outputId": "88684c85-8d4d-4f84-ab04-cebb77b0ad36"
      },
      "source": [
        "import numpy as np\n",
        "import math as m\n",
        "import random\n",
        "\n",
        "popSize = 100\n",
        "population = []\n",
        "distance = []\n",
        "mutation_rate = 0.05\n",
        "\n",
        "#create random cities\n",
        "def random_cities():\n",
        "  totalCities = random.randint(5,15)\n",
        "  cities = np.zeros((totalCities, totalCities))\n",
        "  for i in range(len(cities)):\n",
        "    for j in range(i, len(cities[i])):\n",
        "      if i != j:\n",
        "        cost = random.randint(1,30)\n",
        "        cities[i,j] = cost\n",
        "        cities[j,i] = cost\n",
        "  return cities\n",
        "cities = np.array([\n",
        "  [0,9,8,14,14],\n",
        "  [9,0,22,10,15],\n",
        "  [8,22,0,8,4],\n",
        "  [14,10,8,0,19],\n",
        "  [14,15,4,19,0]\n",
        "])\n",
        "\n",
        "cities = random_cities()\n",
        "\n",
        "totalCities = len(cities)\n",
        "\n",
        "cities"
      ],
      "execution_count": 10,
      "outputs": [
        {
          "output_type": "execute_result",
          "data": {
            "text/plain": [
              "array([[ 0.,  6., 23., 13., 13., 21., 14.,  7., 22., 20., 28., 24., 18.,\n",
              "        20.,  9.],\n",
              "       [ 6.,  0., 25., 23., 13., 11.,  1.,  6., 30.,  3., 27., 19.,  7.,\n",
              "        11., 22.],\n",
              "       [23., 25.,  0., 26., 25., 23.,  8., 26.,  4., 13., 22.,  6., 30.,\n",
              "        19.,  2.],\n",
              "       [13., 23., 26.,  0.,  1.,  7.,  9., 18., 15.,  6., 18., 29., 16.,\n",
              "        10., 11.],\n",
              "       [13., 13., 25.,  1.,  0., 15.,  6.,  9.,  5., 16., 26.,  6.,  4.,\n",
              "        19., 15.],\n",
              "       [21., 11., 23.,  7., 15.,  0., 22.,  9.,  5., 24., 14.,  5., 21.,\n",
              "         8.,  7.],\n",
              "       [14.,  1.,  8.,  9.,  6., 22.,  0.,  7.,  2., 12., 26., 13., 16.,\n",
              "         1., 16.],\n",
              "       [ 7.,  6., 26., 18.,  9.,  9.,  7.,  0., 16., 25., 12.,  2., 19.,\n",
              "        19., 13.],\n",
              "       [22., 30.,  4., 15.,  5.,  5.,  2., 16.,  0., 10., 26.,  5., 28.,\n",
              "        29., 12.],\n",
              "       [20.,  3., 13.,  6., 16., 24., 12., 25., 10.,  0., 23., 23., 27.,\n",
              "        21., 29.],\n",
              "       [28., 27., 22., 18., 26., 14., 26., 12., 26., 23.,  0.,  1.,  7.,\n",
              "        12., 20.],\n",
              "       [24., 19.,  6., 29.,  6.,  5., 13.,  2.,  5., 23.,  1.,  0., 30.,\n",
              "         3., 25.],\n",
              "       [18.,  7., 30., 16.,  4., 21., 16., 19., 28., 27.,  7., 30.,  0.,\n",
              "        25.,  4.],\n",
              "       [20., 11., 19., 10., 19.,  8.,  1., 19., 29., 21., 12.,  3., 25.,\n",
              "         0., 12.],\n",
              "       [ 9., 22.,  2., 11., 15.,  7., 16., 13., 12., 29., 20., 25.,  4.,\n",
              "        12.,  0.]])"
            ]
          },
          "metadata": {},
          "execution_count": 10
        }
      ]
    },
    {
      "cell_type": "code",
      "metadata": {
        "id": "_7oEAFtkFwX3"
      },
      "source": [
        "def calculate_distance(path):\n",
        "  sum = 0\n",
        "  for i in range(len(path) - 1):\n",
        "    travel_cost = cities[path[i], path[i+1]]\n",
        "    sum += travel_cost\n",
        "  return sum\n",
        "\n",
        "def calculate_fitness(distance):\n",
        "  fitness = []\n",
        "  for each in distance:\n",
        "    temp = 1 / each\n",
        "    fitness.append(temp)\n",
        "  total = sum(fitness) \n",
        "  for i in range(len(fitness)):\n",
        "    fitness[i] = fitness[i] / total\n",
        "  return fitness\n",
        "\n",
        "def random_pick(arr):\n",
        "  index = 0\n",
        "  r = random.random() #pick a random number from 0 to 1\n",
        "\n",
        "  while (r > 0):\n",
        "    r = r - arr[index]\n",
        "    index += 1\n",
        "  index -= 1\n",
        "  return index\n",
        "\n",
        "def cross_over(parentA, parentB):\n",
        "\n",
        "  start = random.randint(0, len(parentA))\n",
        "  end = random.randint(start + 1, len(parentA) + 1)\n",
        "\n",
        "  gene_from_parentA = slice(start,end)\n",
        "  new_child = parentA[gene_from_parentA]\n",
        "\n",
        "  while len(new_child) != len(parentB):\n",
        "    for e in parentB:\n",
        "      if e not in new_child:\n",
        "        new_child.append(e)\n",
        "  return new_child"
      ],
      "execution_count": 11,
      "outputs": []
    },
    {
      "cell_type": "code",
      "metadata": {
        "id": "xc7hwZFTdbDo"
      },
      "source": [
        "for i in range(popSize):\n",
        "  \n",
        "  temp = list(range(totalCities))\n",
        "  random.shuffle(temp)\n",
        "  population.append(temp)\n",
        "\n",
        "for path in population:\n",
        "  distance.append(calculate_distance(path))\n",
        "\n",
        "fitness = calculate_fitness(distance)"
      ],
      "execution_count": 12,
      "outputs": []
    },
    {
      "cell_type": "code",
      "metadata": {
        "colab": {
          "base_uri": "https://localhost:8080/"
        },
        "id": "fSy8kw7pOJQr",
        "outputId": "b85364da-428f-4c6a-e5fc-c0a63821b3cc"
      },
      "source": [
        "# Loop through 10000 generations\n",
        "for i in range(10000):\n",
        "  indexA = random_pick(fitness)\n",
        "  indexB = random_pick(fitness)\n",
        "\n",
        "  parentA = population[indexA]\n",
        "  parentB = population[indexB]\n",
        "\n",
        "\n",
        "  new_child = cross_over(parentA, parentB)\n",
        "\n",
        "  index = distance.index(max(distance))\n",
        "  \n",
        "  # mutation\n",
        "  if (random.random() < mutation_rate):\n",
        "    dna_A = random.randint(0,len(new_child)-1)\n",
        "    dna_B = random.randint(0,len(new_child)-1)\n",
        "    new_child[dna_A], new_child[dna_B] = new_child[dna_B], new_child[dna_A]\n",
        "\n",
        "  distance[index] = calculate_distance(new_child)\n",
        "  population[index] = new_child\n",
        "\n",
        "  fitness = calculate_fitness(distance)\n",
        "\n",
        "\n",
        "best_index = distance.index(min(distance))\n",
        "print('Best path: ',population[best_index])\n",
        "print('Cost: ',distance[best_index])"
      ],
      "execution_count": 15,
      "outputs": [
        {
          "output_type": "stream",
          "text": [
            "Best path:  [0, 7, 11, 10, 12, 14, 2, 8, 4, 3, 9, 1, 6, 13, 5]\n",
            "Cost:  52.0\n"
          ],
          "name": "stdout"
        }
      ]
    }
  ]
}