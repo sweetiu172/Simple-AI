{
  "nbformat": 4,
  "nbformat_minor": 0,
  "metadata": {
    "colab": {
      "name": "genetic algorithm for tsp.ipynb",
      "provenance": [],
      "collapsed_sections": []
    },
    "kernelspec": {
      "name": "python3",
      "display_name": "Python 3"
    },
    "language_info": {
      "name": "python"
    }
  },
  "cells": [
    {
      "cell_type": "code",
      "metadata": {
        "id": "Ac8WZcwA4i01",
        "colab": {
          "base_uri": "https://localhost:8080/"
        },
        "outputId": "ffaf3a83-65d5-402c-d38d-9eb8c83e5582"
      },
      "source": [
        "import numpy as np\n",
        "import math as m\n",
        "import random\n",
        "\n",
        "popSize = 10\n",
        "population = []\n",
        "distance = []\n",
        "mutation_rate = 0.05\n",
        "\n",
        "#create random cities\n",
        "def random_cities():\n",
        "  totalCities = random.randint(5,15)\n",
        "  cities = np.zeros((totalCities, totalCities))\n",
        "  for i in range(len(cities)):\n",
        "    for j in range(i, len(cities[i])):\n",
        "      if i != j:\n",
        "        cost = random.randint(1,30)\n",
        "        cities[i,j] = cost\n",
        "        cities[j,i] = cost\n",
        "  return cities\n",
        "# cities = np.array([\n",
        "#   [0,9,8,14,14],\n",
        "#   [9,0,22,10,15],\n",
        "#   [8,22,0,8,4],\n",
        "#   [14,10,8,0,19],\n",
        "#   [14,15,4,19,0]\n",
        "# ])\n",
        "\n",
        "cities = random_cities()\n",
        "\n",
        "totalCities = len(cities)\n",
        "\n",
        "cities"
      ],
      "execution_count": 1,
      "outputs": [
        {
          "output_type": "execute_result",
          "data": {
            "text/plain": [
              "array([[ 0., 21.,  7., 30.,  7.,  8., 26.,  4., 27., 24., 23.,  7., 23.,\n",
              "        25.],\n",
              "       [21.,  0., 24.,  5., 19., 18., 27., 25., 22., 26., 26., 10., 14.,\n",
              "         3.],\n",
              "       [ 7., 24.,  0.,  7.,  5., 21., 19., 26., 29., 19.,  6., 27.,  1.,\n",
              "        21.],\n",
              "       [30.,  5.,  7.,  0.,  3., 27., 15., 19.,  4., 27.,  9., 20., 11.,\n",
              "        12.],\n",
              "       [ 7., 19.,  5.,  3.,  0., 25., 26., 11., 15., 12., 17., 30.,  6.,\n",
              "        15.],\n",
              "       [ 8., 18., 21., 27., 25.,  0., 15., 15., 13., 11., 26., 11.,  5.,\n",
              "        26.],\n",
              "       [26., 27., 19., 15., 26., 15.,  0., 24., 30., 16., 22., 14., 29.,\n",
              "        22.],\n",
              "       [ 4., 25., 26., 19., 11., 15., 24.,  0., 19., 30., 14.,  4.,  4.,\n",
              "        27.],\n",
              "       [27., 22., 29.,  4., 15., 13., 30., 19.,  0., 29., 12., 10.,  7.,\n",
              "        24.],\n",
              "       [24., 26., 19., 27., 12., 11., 16., 30., 29.,  0., 10.,  1.,  3.,\n",
              "        15.],\n",
              "       [23., 26.,  6.,  9., 17., 26., 22., 14., 12., 10.,  0.,  4.,  8.,\n",
              "        25.],\n",
              "       [ 7., 10., 27., 20., 30., 11., 14.,  4., 10.,  1.,  4.,  0., 21.,\n",
              "        13.],\n",
              "       [23., 14.,  1., 11.,  6.,  5., 29.,  4.,  7.,  3.,  8., 21.,  0.,\n",
              "         7.],\n",
              "       [25.,  3., 21., 12., 15., 26., 22., 27., 24., 15., 25., 13.,  7.,\n",
              "         0.]])"
            ]
          },
          "metadata": {
            "tags": []
          },
          "execution_count": 1
        }
      ]
    },
    {
      "cell_type": "code",
      "metadata": {
        "id": "_7oEAFtkFwX3"
      },
      "source": [
        "def calculate_distance(path):\n",
        "  sum = 0\n",
        "  for i in range(len(path) - 1):\n",
        "    travel_cost = cities[path[i], path[i+1]]\n",
        "    sum += travel_cost\n",
        "  return sum\n",
        "\n",
        "def calculate_fitness(distance):\n",
        "  fitness = []\n",
        "  total = sum(distance)\n",
        "  for each in distance:\n",
        "    fitness.append(each / total)\n",
        "  return fitness\n",
        "\n",
        "def random_pick(arr):\n",
        "  index = 0\n",
        "  r = random.random() #pick a random number from 0 to 1\n",
        "\n",
        "  while (r > 0):\n",
        "    r = r - arr[index]\n",
        "    index += 1\n",
        "  index -= 1\n",
        "  return index\n",
        "\n",
        "def cross_over(parentA, parentB):\n",
        "\n",
        "  start = random.randint(0, len(parentA))\n",
        "  end = random.randint(start + 1, len(parentA) + 1)\n",
        "\n",
        "  gene_from_parentA = slice(start,end)\n",
        "  new_child = parentA[gene_from_parentA]\n",
        "\n",
        "  while len(new_child) != len(parentB):\n",
        "    for e in parentB:\n",
        "      if e not in new_child:\n",
        "        new_child.append(e)\n",
        "  return new_child"
      ],
      "execution_count": 2,
      "outputs": []
    },
    {
      "cell_type": "code",
      "metadata": {
        "id": "xc7hwZFTdbDo"
      },
      "source": [
        "for i in range(popSize):\n",
        "  temp = list(range(totalCities))\n",
        "  random.shuffle(temp)\n",
        "  population.append(temp)\n",
        "\n",
        "for path in population:\n",
        "  distance.append(calculate_distance(path))\n",
        "\n",
        "fitness = calculate_fitness(distance)"
      ],
      "execution_count": 3,
      "outputs": []
    },
    {
      "cell_type": "code",
      "metadata": {
        "colab": {
          "base_uri": "https://localhost:8080/"
        },
        "id": "fSy8kw7pOJQr",
        "outputId": "7d008745-3da1-4769-f075-ce9757c64585"
      },
      "source": [
        "# Loop through 10000 generations\n",
        "for i in range(10000):\n",
        "  indexA = random_pick(fitness)\n",
        "  indexB = random_pick(fitness)\n",
        "\n",
        "  parentA = population[indexA]\n",
        "  parentB = population[indexB]\n",
        "\n",
        "  new_child = cross_over(parentA, parentB)\n",
        "\n",
        "  index = distance.index(max(distance))\n",
        "  \n",
        "  # mutation\n",
        "  if (random.random() < mutation_rate):\n",
        "    dna_A = random.randint(0,len(new_child)-1)\n",
        "    dna_B = random.randint(0,len(new_child)-1)\n",
        "    new_child[dna_A], new_child[dna_B] = new_child[dna_B], new_child[dna_A]\n",
        "\n",
        "  distance[index] = calculate_distance(new_child)\n",
        "  population[index] = new_child\n",
        "\n",
        "  fitness = calculate_fitness(distance)\n",
        "\n",
        "best_index = distance.index(min(distance))\n",
        "print('Best path: ',population[best_index])\n",
        "print('Cost: ',distance[best_index])"
      ],
      "execution_count": 14,
      "outputs": [
        {
          "output_type": "stream",
          "text": [
            "Best path:  [1, 13, 9, 11, 10, 2, 4, 3, 8, 12, 7, 0, 5, 6]\n",
            "Cost:  79.0\n"
          ],
          "name": "stdout"
        }
      ]
    }
  ]
}